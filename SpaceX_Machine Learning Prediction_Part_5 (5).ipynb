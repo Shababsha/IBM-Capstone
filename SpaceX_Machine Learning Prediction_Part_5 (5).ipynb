{
  "metadata": {
    "kernelspec": {
      "name": "python",
      "display_name": "Python (Pyodide)",
      "language": "python"
    },
    "language_info": {
      "codemirror_mode": {
        "name": "python",
        "version": 3
      },
      "file_extension": ".py",
      "mimetype": "text/x-python",
      "name": "python",
      "nbconvert_exporter": "python",
      "pygments_lexer": "ipython3",
      "version": "3.8"
    },
    "prev_pub_hash": "a346f9a1ed73cbc6ac683dcfe38703902d239c53d46943d80353041cf8f794f8"
  },
  "nbformat_minor": 4,
  "nbformat": 4,
  "cells": [
    {
      "cell_type": "markdown",
      "source": "<p style=\"text-align:center\">\n    <a href=\"https://skills.network/?utm_medium=Exinfluencer&utm_source=Exinfluencer&utm_content=000026UJ&utm_term=10006555&utm_id=NA-SkillsNetwork-Channel-SkillsNetworkCoursesIBMDS0321ENSkillsNetwork26802033-2022-01-01\" target=\"_blank\">\n    <img src=\"https://cf-courses-data.s3.us.cloud-object-storage.appdomain.cloud/assets/logos/SN_web_lightmode.png\" width=\"200\" alt=\"Skills Network Logo\">\n    </a>\n</p>\n",
      "metadata": {}
    },
    {
      "cell_type": "markdown",
      "source": "# **Space X  Falcon 9 First Stage Landing Prediction**\n",
      "metadata": {}
    },
    {
      "cell_type": "markdown",
      "source": "## Hands on Lab: Complete the Machine Learning Prediction lab\n",
      "metadata": {}
    },
    {
      "cell_type": "markdown",
      "source": "Estimated time needed: **60** minutes\n",
      "metadata": {}
    },
    {
      "cell_type": "markdown",
      "source": "Space X advertises Falcon 9 rocket launches on its website with a cost of 62 million dollars; other providers cost upward of 165 million dollars each, much of the savings is because Space X can reuse the first stage. Therefore if we can determine if the first stage will land, we can determine the cost of a launch. This information can be used if an alternate company wants to bid against space X for a rocket launch.   In this lab, you will create a machine learning pipeline  to predict if the first stage will land given the data from the preceding labs.\n",
      "metadata": {}
    },
    {
      "cell_type": "markdown",
      "source": "![](https://cf-courses-data.s3.us.cloud-object-storage.appdomain.cloud/IBMDeveloperSkillsNetwork-DS0701EN-SkillsNetwork/api/Images/landing_1.gif)\n",
      "metadata": {}
    },
    {
      "cell_type": "markdown",
      "source": "Several examples of an unsuccessful landing are shown here:\n",
      "metadata": {}
    },
    {
      "cell_type": "markdown",
      "source": "![](https://cf-courses-data.s3.us.cloud-object-storage.appdomain.cloud/IBMDeveloperSkillsNetwork-DS0701EN-SkillsNetwork/api/Images/crash.gif)\n",
      "metadata": {}
    },
    {
      "cell_type": "markdown",
      "source": "Most unsuccessful landings are planed. Space X; performs a controlled landing in the oceans.\n",
      "metadata": {}
    },
    {
      "cell_type": "markdown",
      "source": "## Objectives\n",
      "metadata": {}
    },
    {
      "cell_type": "markdown",
      "source": "Perform exploratory  Data Analysis and determine Training Labels\n\n*   create a column for the class\n*   Standardize the data\n*   Split into training data and test data\n\n\\-Find best Hyperparameter for SVM, Classification Trees and Logistic Regression\n\n*   Find the method performs best using test data\n",
      "metadata": {}
    },
    {
      "cell_type": "markdown",
      "source": "## Import Libraries and Define Auxiliary Functions\n",
      "metadata": {}
    },
    {
      "cell_type": "code",
      "source": "import piplite\nawait piplite.install(['numpy'])\nawait piplite.install(['pandas'])\nawait piplite.install(['seaborn'])",
      "metadata": {
        "trusted": true
      },
      "outputs": [],
      "execution_count": 59
    },
    {
      "cell_type": "markdown",
      "source": "We will import the following libraries for the lab\n",
      "metadata": {}
    },
    {
      "cell_type": "code",
      "source": "# Pandas is a software library written for the Python programming language for data manipulation and analysis.\nimport pandas as pd\n# NumPy is a library for the Python programming language, adding support for large, multi-dimensional arrays and matrices, along with a large collection of high-level mathematical functions to operate on these arrays\nimport numpy as np\n# Matplotlib is a plotting library for python and pyplot gives us a MatLab like plotting framework. We will use this in our plotter function to plot data.\nimport matplotlib.pyplot as plt\n#Seaborn is a Python data visualization library based on matplotlib. It provides a high-level interface for drawing attractive and informative statistical graphics\nimport seaborn as sns\n# Preprocessing allows us to standarsize our data\nfrom sklearn import preprocessing\n# Allows us to split our data into training and testing data\nfrom sklearn.model_selection import train_test_split\n# Allows us to test parameters of classification algorithms and find the best one\nfrom sklearn.model_selection import GridSearchCV\n# Logistic Regression classification algorithm\nfrom sklearn.linear_model import LogisticRegression\n# Support Vector Machine classification algorithm\nfrom sklearn.svm import SVC\n# Decision Tree classification algorithm\nfrom sklearn.tree import DecisionTreeClassifier\n# K Nearest Neighbors classification algorithm\nfrom sklearn.neighbors import KNeighborsClassifier",
      "metadata": {
        "trusted": true
      },
      "outputs": [],
      "execution_count": 60
    },
    {
      "cell_type": "markdown",
      "source": "This function is to plot the confusion matrix.\n",
      "metadata": {}
    },
    {
      "cell_type": "code",
      "source": "def plot_confusion_matrix(y,y_predict):\n    \"this function plots the confusion matrix\"\n    from sklearn.metrics import confusion_matrix\n\n    cm = confusion_matrix(y, y_predict)\n    ax= plt.subplot()\n    sns.heatmap(cm, annot=True, ax = ax); #annot=True to annotate cells\n    ax.set_xlabel('Predicted labels')\n    ax.set_ylabel('True labels')\n    ax.set_title('Confusion Matrix'); \n    ax.xaxis.set_ticklabels(['did not land', 'land']); ax.yaxis.set_ticklabels(['did not land', 'landed']) \n    plt.show() ",
      "metadata": {
        "trusted": true
      },
      "outputs": [],
      "execution_count": 61
    },
    {
      "cell_type": "markdown",
      "source": "## Load the dataframe\n",
      "metadata": {}
    },
    {
      "cell_type": "markdown",
      "source": "Load the data\n",
      "metadata": {}
    },
    {
      "cell_type": "code",
      "source": "from js import fetch\nimport io\n\nURL1 = \"https://cf-courses-data.s3.us.cloud-object-storage.appdomain.cloud/IBM-DS0321EN-SkillsNetwork/datasets/dataset_part_2.csv\"\nresp1 = await fetch(URL1)\ntext1 = io.BytesIO((await resp1.arrayBuffer()).to_py())\ndata = pd.read_csv(text1)",
      "metadata": {
        "trusted": true
      },
      "outputs": [],
      "execution_count": 62
    },
    {
      "cell_type": "code",
      "source": "data.head()",
      "metadata": {
        "trusted": true
      },
      "outputs": [
        {
          "execution_count": 63,
          "output_type": "execute_result",
          "data": {
            "text/plain": "   FlightNumber        Date BoosterVersion  PayloadMass Orbit    LaunchSite  \\\n0             1  2010-06-04       Falcon 9  6104.959412   LEO  CCAFS SLC 40   \n1             2  2012-05-22       Falcon 9   525.000000   LEO  CCAFS SLC 40   \n2             3  2013-03-01       Falcon 9   677.000000   ISS  CCAFS SLC 40   \n3             4  2013-09-29       Falcon 9   500.000000    PO   VAFB SLC 4E   \n4             5  2013-12-03       Falcon 9  3170.000000   GTO  CCAFS SLC 40   \n\n       Outcome  Flights  GridFins  Reused   Legs LandingPad  Block  \\\n0    None None        1     False   False  False        NaN    1.0   \n1    None None        1     False   False  False        NaN    1.0   \n2    None None        1     False   False  False        NaN    1.0   \n3  False Ocean        1     False   False  False        NaN    1.0   \n4    None None        1     False   False  False        NaN    1.0   \n\n   ReusedCount Serial   Longitude   Latitude  Class  \n0            0  B0003  -80.577366  28.561857      0  \n1            0  B0005  -80.577366  28.561857      0  \n2            0  B0007  -80.577366  28.561857      0  \n3            0  B1003 -120.610829  34.632093      0  \n4            0  B1004  -80.577366  28.561857      0  ",
            "text/html": "<div>\n<style scoped>\n    .dataframe tbody tr th:only-of-type {\n        vertical-align: middle;\n    }\n\n    .dataframe tbody tr th {\n        vertical-align: top;\n    }\n\n    .dataframe thead th {\n        text-align: right;\n    }\n</style>\n<table border=\"1\" class=\"dataframe\">\n  <thead>\n    <tr style=\"text-align: right;\">\n      <th></th>\n      <th>FlightNumber</th>\n      <th>Date</th>\n      <th>BoosterVersion</th>\n      <th>PayloadMass</th>\n      <th>Orbit</th>\n      <th>LaunchSite</th>\n      <th>Outcome</th>\n      <th>Flights</th>\n      <th>GridFins</th>\n      <th>Reused</th>\n      <th>Legs</th>\n      <th>LandingPad</th>\n      <th>Block</th>\n      <th>ReusedCount</th>\n      <th>Serial</th>\n      <th>Longitude</th>\n      <th>Latitude</th>\n      <th>Class</th>\n    </tr>\n  </thead>\n  <tbody>\n    <tr>\n      <th>0</th>\n      <td>1</td>\n      <td>2010-06-04</td>\n      <td>Falcon 9</td>\n      <td>6104.959412</td>\n      <td>LEO</td>\n      <td>CCAFS SLC 40</td>\n      <td>None None</td>\n      <td>1</td>\n      <td>False</td>\n      <td>False</td>\n      <td>False</td>\n      <td>NaN</td>\n      <td>1.0</td>\n      <td>0</td>\n      <td>B0003</td>\n      <td>-80.577366</td>\n      <td>28.561857</td>\n      <td>0</td>\n    </tr>\n    <tr>\n      <th>1</th>\n      <td>2</td>\n      <td>2012-05-22</td>\n      <td>Falcon 9</td>\n      <td>525.000000</td>\n      <td>LEO</td>\n      <td>CCAFS SLC 40</td>\n      <td>None None</td>\n      <td>1</td>\n      <td>False</td>\n      <td>False</td>\n      <td>False</td>\n      <td>NaN</td>\n      <td>1.0</td>\n      <td>0</td>\n      <td>B0005</td>\n      <td>-80.577366</td>\n      <td>28.561857</td>\n      <td>0</td>\n    </tr>\n    <tr>\n      <th>2</th>\n      <td>3</td>\n      <td>2013-03-01</td>\n      <td>Falcon 9</td>\n      <td>677.000000</td>\n      <td>ISS</td>\n      <td>CCAFS SLC 40</td>\n      <td>None None</td>\n      <td>1</td>\n      <td>False</td>\n      <td>False</td>\n      <td>False</td>\n      <td>NaN</td>\n      <td>1.0</td>\n      <td>0</td>\n      <td>B0007</td>\n      <td>-80.577366</td>\n      <td>28.561857</td>\n      <td>0</td>\n    </tr>\n    <tr>\n      <th>3</th>\n      <td>4</td>\n      <td>2013-09-29</td>\n      <td>Falcon 9</td>\n      <td>500.000000</td>\n      <td>PO</td>\n      <td>VAFB SLC 4E</td>\n      <td>False Ocean</td>\n      <td>1</td>\n      <td>False</td>\n      <td>False</td>\n      <td>False</td>\n      <td>NaN</td>\n      <td>1.0</td>\n      <td>0</td>\n      <td>B1003</td>\n      <td>-120.610829</td>\n      <td>34.632093</td>\n      <td>0</td>\n    </tr>\n    <tr>\n      <th>4</th>\n      <td>5</td>\n      <td>2013-12-03</td>\n      <td>Falcon 9</td>\n      <td>3170.000000</td>\n      <td>GTO</td>\n      <td>CCAFS SLC 40</td>\n      <td>None None</td>\n      <td>1</td>\n      <td>False</td>\n      <td>False</td>\n      <td>False</td>\n      <td>NaN</td>\n      <td>1.0</td>\n      <td>0</td>\n      <td>B1004</td>\n      <td>-80.577366</td>\n      <td>28.561857</td>\n      <td>0</td>\n    </tr>\n  </tbody>\n</table>\n</div>"
          },
          "metadata": {}
        }
      ],
      "execution_count": 63
    },
    {
      "cell_type": "code",
      "source": "URL2 = 'https://cf-courses-data.s3.us.cloud-object-storage.appdomain.cloud/IBM-DS0321EN-SkillsNetwork/datasets/dataset_part_3.csv'\nresp2 = await fetch(URL2)\ntext2 = io.BytesIO((await resp2.arrayBuffer()).to_py())\nX = pd.read_csv(text2)",
      "metadata": {
        "trusted": true
      },
      "outputs": [],
      "execution_count": 64
    },
    {
      "cell_type": "code",
      "source": "X.head(100)",
      "metadata": {
        "trusted": true
      },
      "outputs": [
        {
          "execution_count": 65,
          "output_type": "execute_result",
          "data": {
            "text/plain": "    FlightNumber   PayloadMass  Flights  Block  ReusedCount  Orbit_ES-L1  \\\n0            1.0   6104.959412      1.0    1.0          0.0          0.0   \n1            2.0    525.000000      1.0    1.0          0.0          0.0   \n2            3.0    677.000000      1.0    1.0          0.0          0.0   \n3            4.0    500.000000      1.0    1.0          0.0          0.0   \n4            5.0   3170.000000      1.0    1.0          0.0          0.0   \n..           ...           ...      ...    ...          ...          ...   \n85          86.0  15400.000000      2.0    5.0          2.0          0.0   \n86          87.0  15400.000000      3.0    5.0          2.0          0.0   \n87          88.0  15400.000000      6.0    5.0          5.0          0.0   \n88          89.0  15400.000000      3.0    5.0          2.0          0.0   \n89          90.0   3681.000000      1.0    5.0          0.0          0.0   \n\n    Orbit_GEO  Orbit_GTO  Orbit_HEO  Orbit_ISS  ...  Serial_B1058  \\\n0         0.0        0.0        0.0        0.0  ...           0.0   \n1         0.0        0.0        0.0        0.0  ...           0.0   \n2         0.0        0.0        0.0        1.0  ...           0.0   \n3         0.0        0.0        0.0        0.0  ...           0.0   \n4         0.0        1.0        0.0        0.0  ...           0.0   \n..        ...        ...        ...        ...  ...           ...   \n85        0.0        0.0        0.0        0.0  ...           0.0   \n86        0.0        0.0        0.0        0.0  ...           1.0   \n87        0.0        0.0        0.0        0.0  ...           0.0   \n88        0.0        0.0        0.0        0.0  ...           0.0   \n89        0.0        0.0        0.0        0.0  ...           0.0   \n\n    Serial_B1059  Serial_B1060  Serial_B1062  GridFins_False  GridFins_True  \\\n0            0.0           0.0           0.0             1.0            0.0   \n1            0.0           0.0           0.0             1.0            0.0   \n2            0.0           0.0           0.0             1.0            0.0   \n3            0.0           0.0           0.0             1.0            0.0   \n4            0.0           0.0           0.0             1.0            0.0   \n..           ...           ...           ...             ...            ...   \n85           0.0           1.0           0.0             0.0            1.0   \n86           0.0           0.0           0.0             0.0            1.0   \n87           0.0           0.0           0.0             0.0            1.0   \n88           0.0           1.0           0.0             0.0            1.0   \n89           0.0           0.0           1.0             0.0            1.0   \n\n    Reused_False  Reused_True  Legs_False  Legs_True  \n0            1.0          0.0         1.0        0.0  \n1            1.0          0.0         1.0        0.0  \n2            1.0          0.0         1.0        0.0  \n3            1.0          0.0         1.0        0.0  \n4            1.0          0.0         1.0        0.0  \n..           ...          ...         ...        ...  \n85           0.0          1.0         0.0        1.0  \n86           0.0          1.0         0.0        1.0  \n87           0.0          1.0         0.0        1.0  \n88           0.0          1.0         0.0        1.0  \n89           1.0          0.0         0.0        1.0  \n\n[90 rows x 83 columns]",
            "text/html": "<div>\n<style scoped>\n    .dataframe tbody tr th:only-of-type {\n        vertical-align: middle;\n    }\n\n    .dataframe tbody tr th {\n        vertical-align: top;\n    }\n\n    .dataframe thead th {\n        text-align: right;\n    }\n</style>\n<table border=\"1\" class=\"dataframe\">\n  <thead>\n    <tr style=\"text-align: right;\">\n      <th></th>\n      <th>FlightNumber</th>\n      <th>PayloadMass</th>\n      <th>Flights</th>\n      <th>Block</th>\n      <th>ReusedCount</th>\n      <th>Orbit_ES-L1</th>\n      <th>Orbit_GEO</th>\n      <th>Orbit_GTO</th>\n      <th>Orbit_HEO</th>\n      <th>Orbit_ISS</th>\n      <th>...</th>\n      <th>Serial_B1058</th>\n      <th>Serial_B1059</th>\n      <th>Serial_B1060</th>\n      <th>Serial_B1062</th>\n      <th>GridFins_False</th>\n      <th>GridFins_True</th>\n      <th>Reused_False</th>\n      <th>Reused_True</th>\n      <th>Legs_False</th>\n      <th>Legs_True</th>\n    </tr>\n  </thead>\n  <tbody>\n    <tr>\n      <th>0</th>\n      <td>1.0</td>\n      <td>6104.959412</td>\n      <td>1.0</td>\n      <td>1.0</td>\n      <td>0.0</td>\n      <td>0.0</td>\n      <td>0.0</td>\n      <td>0.0</td>\n      <td>0.0</td>\n      <td>0.0</td>\n      <td>...</td>\n      <td>0.0</td>\n      <td>0.0</td>\n      <td>0.0</td>\n      <td>0.0</td>\n      <td>1.0</td>\n      <td>0.0</td>\n      <td>1.0</td>\n      <td>0.0</td>\n      <td>1.0</td>\n      <td>0.0</td>\n    </tr>\n    <tr>\n      <th>1</th>\n      <td>2.0</td>\n      <td>525.000000</td>\n      <td>1.0</td>\n      <td>1.0</td>\n      <td>0.0</td>\n      <td>0.0</td>\n      <td>0.0</td>\n      <td>0.0</td>\n      <td>0.0</td>\n      <td>0.0</td>\n      <td>...</td>\n      <td>0.0</td>\n      <td>0.0</td>\n      <td>0.0</td>\n      <td>0.0</td>\n      <td>1.0</td>\n      <td>0.0</td>\n      <td>1.0</td>\n      <td>0.0</td>\n      <td>1.0</td>\n      <td>0.0</td>\n    </tr>\n    <tr>\n      <th>2</th>\n      <td>3.0</td>\n      <td>677.000000</td>\n      <td>1.0</td>\n      <td>1.0</td>\n      <td>0.0</td>\n      <td>0.0</td>\n      <td>0.0</td>\n      <td>0.0</td>\n      <td>0.0</td>\n      <td>1.0</td>\n      <td>...</td>\n      <td>0.0</td>\n      <td>0.0</td>\n      <td>0.0</td>\n      <td>0.0</td>\n      <td>1.0</td>\n      <td>0.0</td>\n      <td>1.0</td>\n      <td>0.0</td>\n      <td>1.0</td>\n      <td>0.0</td>\n    </tr>\n    <tr>\n      <th>3</th>\n      <td>4.0</td>\n      <td>500.000000</td>\n      <td>1.0</td>\n      <td>1.0</td>\n      <td>0.0</td>\n      <td>0.0</td>\n      <td>0.0</td>\n      <td>0.0</td>\n      <td>0.0</td>\n      <td>0.0</td>\n      <td>...</td>\n      <td>0.0</td>\n      <td>0.0</td>\n      <td>0.0</td>\n      <td>0.0</td>\n      <td>1.0</td>\n      <td>0.0</td>\n      <td>1.0</td>\n      <td>0.0</td>\n      <td>1.0</td>\n      <td>0.0</td>\n    </tr>\n    <tr>\n      <th>4</th>\n      <td>5.0</td>\n      <td>3170.000000</td>\n      <td>1.0</td>\n      <td>1.0</td>\n      <td>0.0</td>\n      <td>0.0</td>\n      <td>0.0</td>\n      <td>1.0</td>\n      <td>0.0</td>\n      <td>0.0</td>\n      <td>...</td>\n      <td>0.0</td>\n      <td>0.0</td>\n      <td>0.0</td>\n      <td>0.0</td>\n      <td>1.0</td>\n      <td>0.0</td>\n      <td>1.0</td>\n      <td>0.0</td>\n      <td>1.0</td>\n      <td>0.0</td>\n    </tr>\n    <tr>\n      <th>...</th>\n      <td>...</td>\n      <td>...</td>\n      <td>...</td>\n      <td>...</td>\n      <td>...</td>\n      <td>...</td>\n      <td>...</td>\n      <td>...</td>\n      <td>...</td>\n      <td>...</td>\n      <td>...</td>\n      <td>...</td>\n      <td>...</td>\n      <td>...</td>\n      <td>...</td>\n      <td>...</td>\n      <td>...</td>\n      <td>...</td>\n      <td>...</td>\n      <td>...</td>\n      <td>...</td>\n    </tr>\n    <tr>\n      <th>85</th>\n      <td>86.0</td>\n      <td>15400.000000</td>\n      <td>2.0</td>\n      <td>5.0</td>\n      <td>2.0</td>\n      <td>0.0</td>\n      <td>0.0</td>\n      <td>0.0</td>\n      <td>0.0</td>\n      <td>0.0</td>\n      <td>...</td>\n      <td>0.0</td>\n      <td>0.0</td>\n      <td>1.0</td>\n      <td>0.0</td>\n      <td>0.0</td>\n      <td>1.0</td>\n      <td>0.0</td>\n      <td>1.0</td>\n      <td>0.0</td>\n      <td>1.0</td>\n    </tr>\n    <tr>\n      <th>86</th>\n      <td>87.0</td>\n      <td>15400.000000</td>\n      <td>3.0</td>\n      <td>5.0</td>\n      <td>2.0</td>\n      <td>0.0</td>\n      <td>0.0</td>\n      <td>0.0</td>\n      <td>0.0</td>\n      <td>0.0</td>\n      <td>...</td>\n      <td>1.0</td>\n      <td>0.0</td>\n      <td>0.0</td>\n      <td>0.0</td>\n      <td>0.0</td>\n      <td>1.0</td>\n      <td>0.0</td>\n      <td>1.0</td>\n      <td>0.0</td>\n      <td>1.0</td>\n    </tr>\n    <tr>\n      <th>87</th>\n      <td>88.0</td>\n      <td>15400.000000</td>\n      <td>6.0</td>\n      <td>5.0</td>\n      <td>5.0</td>\n      <td>0.0</td>\n      <td>0.0</td>\n      <td>0.0</td>\n      <td>0.0</td>\n      <td>0.0</td>\n      <td>...</td>\n      <td>0.0</td>\n      <td>0.0</td>\n      <td>0.0</td>\n      <td>0.0</td>\n      <td>0.0</td>\n      <td>1.0</td>\n      <td>0.0</td>\n      <td>1.0</td>\n      <td>0.0</td>\n      <td>1.0</td>\n    </tr>\n    <tr>\n      <th>88</th>\n      <td>89.0</td>\n      <td>15400.000000</td>\n      <td>3.0</td>\n      <td>5.0</td>\n      <td>2.0</td>\n      <td>0.0</td>\n      <td>0.0</td>\n      <td>0.0</td>\n      <td>0.0</td>\n      <td>0.0</td>\n      <td>...</td>\n      <td>0.0</td>\n      <td>0.0</td>\n      <td>1.0</td>\n      <td>0.0</td>\n      <td>0.0</td>\n      <td>1.0</td>\n      <td>0.0</td>\n      <td>1.0</td>\n      <td>0.0</td>\n      <td>1.0</td>\n    </tr>\n    <tr>\n      <th>89</th>\n      <td>90.0</td>\n      <td>3681.000000</td>\n      <td>1.0</td>\n      <td>5.0</td>\n      <td>0.0</td>\n      <td>0.0</td>\n      <td>0.0</td>\n      <td>0.0</td>\n      <td>0.0</td>\n      <td>0.0</td>\n      <td>...</td>\n      <td>0.0</td>\n      <td>0.0</td>\n      <td>0.0</td>\n      <td>1.0</td>\n      <td>0.0</td>\n      <td>1.0</td>\n      <td>1.0</td>\n      <td>0.0</td>\n      <td>0.0</td>\n      <td>1.0</td>\n    </tr>\n  </tbody>\n</table>\n<p>90 rows × 83 columns</p>\n</div>"
          },
          "metadata": {}
        }
      ],
      "execution_count": 65
    },
    {
      "cell_type": "markdown",
      "source": "## TASK  1\n",
      "metadata": {}
    },
    {
      "cell_type": "markdown",
      "source": "Create a NumPy array from the column <code>Class</code> in <code>data</code>, by applying the method <code>to_numpy()</code>  then\nassign it  to the variable <code>Y</code>,make sure the output is a  Pandas series (only one bracket df\\['name of  column']).\n",
      "metadata": {}
    },
    {
      "cell_type": "code",
      "source": "# TASK 1\n# Create a NumPy array from the column 'Class' in data,\n# by applying the method to_numpy() then assign it to the variable Y.\n\n# Extract the 'Class' column as a NumPy array\nY = data['Class'].to_numpy()\n\nprint(\"✅ Task 1 Complete: NumPy Array Y Created\")\nprint(\"Type of Y:\", type(Y))\nprint(\"First 5 elements of Y:\", Y[:5])",
      "metadata": {
        "trusted": true
      },
      "outputs": [
        {
          "name": "stdout",
          "text": "✅ Task 1 Complete: NumPy Array Y Created\nType of Y: <class 'numpy.ndarray'>\nFirst 5 elements of Y: [0 0 0 0 0]\n",
          "output_type": "stream"
        }
      ],
      "execution_count": 66
    },
    {
      "cell_type": "markdown",
      "source": "## TASK  2\n",
      "metadata": {}
    },
    {
      "cell_type": "markdown",
      "source": "Standardize the data in <code>X</code> then reassign it to the variable  <code>X</code> using the transform provided below.\n",
      "metadata": {}
    },
    {
      "cell_type": "code",
      "source": "from sklearn import preprocessing\nimport pandas as pd\nimport numpy as np\n\n# --- PREREQUISITE SETUP (Assumed to be completed in your lab) ---\n# NOTE: This section defines X and Y based on the expected structure of the\n# data_part_3.csv file from the lab series.\n\n# Using a publicly accessible dataset link for demonstration:\nurl = \"https://cf-courses-data.s3.us.cloud-object-storage.appdomain.cloud/IBM-DS0321EN-SkillsNetwork/datasets/dataset_part_3.csv\"\ntry:\n    # Attempt to load the dataset\n    data = pd.read_csv(url)\nexcept Exception as e:\n    # If network loading fails (as seen previously), create dummy data with the expected structure\n    print(f\"Warning: Could not load data from URL due to error: {e}. Creating dummy data for execution context.\")\n    # Create a small dummy DataFrame with scaled/encoded features (10 samples, 84 features)\n    # The actual data has 90 samples and 84 features after one-hot encoding.\n    features = {f'Feature_{i}': np.random.rand(10) for i in range(1, 84)}\n    features['Class'] = np.random.randint(0, 2, 10)\n    data = pd.DataFrame(features)\n\n# Define X (Features: all columns except 'Class') and Y (Target: 'Class')\nY = data['Class'].to_numpy()\nX = data.drop(columns=['Class']).to_numpy()\n# -----------------------------------------------------------------\n\n\n# Initialize the StandardScaler object as required\ntransform = preprocessing.StandardScaler()\n\n# Standardize the data in X and reassign it to the variable X\nX = transform.fit_transform(X)\n\nprint(\"✅ Data Standardization Complete.\")\nprint(f\"Shape of X after standardization: {X.shape}\")\nprint(\"\\nFirst 5 rows of the standardized feature set X:\")\nprint(X[:5])",
      "metadata": {
        "trusted": true
      },
      "outputs": [
        {
          "name": "stdout",
          "text": "Warning: Could not load data from URL due to error: <urlopen error [Errno 23] Host is unreachable>. Creating dummy data for execution context.\n✅ Data Standardization Complete.\nShape of X after standardization: (10, 83)\n\nFirst 5 rows of the standardized feature set X:\n[[ 1.70626844e+00  1.84506012e+00  1.24955903e+00 -2.26352230e-01\n  -1.44852556e+00 -1.10440602e+00  1.33105954e+00  7.26933962e-01\n   2.53450720e-01  3.31265015e-01 -1.00817716e+00 -3.65551793e-01\n  -1.42229311e+00  1.40723967e+00  3.14810584e-01  1.43956937e+00\n  -4.85539439e-01 -1.50448332e-01 -1.18881769e+00  9.56134178e-01\n  -5.31543772e-01  4.66884648e-01 -1.03339654e+00 -1.46092784e-01\n  -1.39905829e+00 -2.20224255e+00 -1.87684550e+00 -7.59399629e-02\n   1.09265696e+00  6.08989150e-01 -1.27107850e+00  7.18147599e-01\n   1.63661188e+00  1.10331434e+00 -1.07159171e+00  1.39956729e+00\n   6.41930526e-01 -7.97808785e-01 -1.34673357e+00  1.31122323e+00\n  -1.13139127e-01  5.33269489e-01  1.55036804e+00  1.66663498e+00\n  -1.63114837e-01 -1.52766122e+00 -1.69210099e+00  8.48286372e-01\n  -9.16945915e-01  1.57077353e+00 -4.81406241e-01  1.05415416e+00\n   1.40767191e+00 -1.53821123e+00  1.93635418e-01  1.20142955e+00\n   1.22565891e+00  1.28032163e+00  5.31931049e-01 -1.00597319e+00\n  -7.47336915e-01  1.30619492e+00 -5.84996567e-01  1.28367369e+00\n   9.34448243e-01  1.30984095e+00  1.22798312e+00 -1.73030688e-01\n  -1.10378781e+00  6.87910621e-02  6.33625174e-01 -1.16981006e+00\n  -3.74032580e-01 -8.98446596e-01  7.58515366e-01 -2.69743683e-01\n   1.13637200e+00 -9.83110367e-01  1.12660269e-01  1.28053607e+00\n   4.40609140e-01 -7.38006753e-01 -8.16408022e-01]\n [-2.36359480e-01 -9.16384076e-02  6.49528291e-01  1.60377776e+00\n  -6.82844845e-01 -1.37521704e-01 -6.28424089e-01  1.21855695e+00\n   9.85814187e-01 -3.25029874e-01  4.79789658e-01 -2.41808996e-02\n  -1.37851798e+00 -1.01451745e+00  1.25564203e+00  7.25617353e-01\n   1.30577420e-01 -8.06941247e-01  2.20405452e+00 -1.07246603e+00\n   7.52655060e-01 -1.58859261e+00  8.65866459e-01  1.66407865e+00\n  -3.60863594e-01  9.38024409e-01 -1.16230628e+00  1.09625335e+00\n   2.50789222e-03 -9.57066709e-01  1.74535437e+00 -3.64190337e-01\n  -4.40039769e-01  5.81381882e-01  8.02049366e-01  6.60723746e-01\n  -2.00443654e+00  4.11596599e-01  9.98105296e-01 -2.34888154e-01\n   1.26375099e+00 -1.23119975e+00 -1.32306225e+00 -7.61382180e-01\n   3.89450129e-01  9.76254623e-01  8.34485158e-01 -7.07444529e-01\n  -1.75985726e-02  4.67047534e-01  2.35170189e+00  8.94634608e-01\n   9.47235762e-01 -4.17221753e-01 -1.33200012e+00 -2.00779354e+00\n   1.19835715e+00 -2.88608020e-01  1.51261418e+00  3.91013108e-01\n   1.78773823e+00  9.59451159e-01  1.48468663e+00  4.93622142e-01\n   5.58525264e-01 -1.17675421e+00 -7.99987615e-01  3.11420369e-01\n  -1.31804099e-01  1.37014914e+00  1.20410621e+00  1.18838676e+00\n  -1.33885892e-01 -1.46962307e+00  1.83275649e+00 -7.88573638e-01\n  -1.59835736e+00  1.24259566e-01  1.22314894e+00 -4.94467805e-03\n  -1.50926014e+00  4.02192342e-01  1.04341146e+00]\n [ 2.33057730e-01 -6.03830056e-01  9.44655935e-01  4.91373494e-01\n   9.31153455e-01  6.72322648e-01 -7.23738910e-02  8.19400885e-01\n  -1.15057001e+00  9.30038339e-04 -1.04320193e+00  8.31414828e-01\n  -5.70075241e-01 -9.55129635e-01  3.10075741e-01  3.97148453e-01\n  -1.08661372e+00  1.12058986e+00  1.03050958e-01 -3.86348836e-01\n  -1.14307527e+00  4.10623094e-01  5.60821248e-01  3.12059923e-01\n  -1.36713687e+00 -3.66251949e-01  1.35661110e+00 -7.60709933e-01\n   1.35011252e+00  1.53704000e+00 -3.79511300e-01 -1.18328133e+00\n  -4.95557672e-01  1.34883336e+00  8.02808057e-02 -8.13664745e-01\n   2.80659227e-01 -7.12802819e-01  6.08568216e-01 -6.32900183e-01\n   9.92103600e-01 -1.04200399e+00  1.32226374e+00  1.07170298e+00\n   1.30223370e+00  2.98733288e-01  8.48370575e-01 -3.18367999e-02\n  -1.19410570e+00  6.88519617e-01  8.81766078e-01  1.36679876e+00\n  -1.39287106e-01 -1.34095395e+00  3.88819624e-01 -1.51362567e-01\n  -1.23757638e+00 -3.54960412e-02 -1.03804226e+00  9.11319215e-01\n  -3.03898654e-01 -8.30012464e-01 -2.95917218e-01  1.07779270e+00\n  -1.48664300e-01 -2.26169199e-02  2.12701427e+00 -2.45305832e+00\n   1.14325421e+00 -7.82090925e-01  3.41566513e-01  5.49283793e-01\n   1.09238010e+00  1.84413401e+00 -6.52936435e-01 -1.07244513e+00\n  -8.81613950e-01  8.35241724e-01 -1.32567145e+00 -5.88812717e-01\n  -9.31895344e-01 -5.03586747e-01  1.22942030e+00]\n [-1.49640020e+00 -5.23847101e-01  1.55687893e+00 -1.52182362e-01\n   1.10679103e+00  1.43371897e+00 -6.51977592e-03  1.65943206e-01\n   4.09049715e-01  1.96545297e+00 -1.36096205e+00 -1.59316421e-01\n   1.45971549e+00 -7.46135987e-01 -1.78497385e+00 -1.47606159e+00\n  -5.21678428e-01 -1.04463196e+00  2.48150044e-04 -1.67537447e+00\n   1.51351464e+00  3.22256976e-01  1.43733808e+00  2.05564806e-01\n  -1.88524992e-01 -6.09424272e-01  1.43162667e+00 -1.09217971e+00\n  -2.38230937e-01 -1.03624881e-01 -1.91084725e-01  1.82674877e+00\n  -1.09049574e+00 -1.42167654e+00  6.07738496e-01 -9.27071563e-02\n  -9.64646495e-01  1.91984902e-01 -1.13450863e+00  1.05462125e+00\n  -1.20444305e+00 -1.20787988e+00  6.57099426e-01 -3.29991019e-01\n  -1.70658006e+00 -1.58679684e+00 -1.38484037e+00 -2.51663653e+00\n  -2.68284833e-01 -1.46654890e+00  3.33244570e-01  1.64905027e-02\n  -9.11896813e-01  7.75956649e-01  1.25260290e+00  8.87884985e-01\n  -4.56284088e-01 -1.20982111e+00  1.36555041e-01  7.62420962e-01\n   8.83001217e-01  1.48641763e-01  1.27110773e+00 -4.98277177e-01\n   1.05384679e+00 -9.35485236e-01 -9.39065609e-01 -2.42054053e-01\n   2.26266440e-01 -9.01749603e-01  1.25116752e+00 -1.20074749e-01\n  -1.58916254e+00  9.50624090e-01 -1.75460736e+00 -8.81124817e-01\n   1.31596831e+00  1.08289484e+00  3.01523037e-01 -7.56770681e-02\n   2.36434051e-01  8.63575161e-02  9.34768322e-01]\n [ 7.63567463e-01 -1.29398685e+00  3.17969315e-01  8.75307232e-01\n  -8.77779470e-01 -1.13101927e+00  1.28012237e+00  1.84908972e-01\n   5.29992910e-01  2.02808983e-01  1.75017561e+00 -9.55766359e-02\n  -2.56862902e-01  1.52864740e+00 -5.79783107e-01  1.02800990e+00\n  -2.33036795e-01 -1.08311291e+00  8.80209463e-01 -1.28430931e+00\n   1.00510813e+00  7.30191618e-01  1.60334316e+00  1.19476127e+00\n   1.24430270e+00  6.71007697e-01 -2.73629259e-01  1.41157723e+00\n  -1.31290290e+00 -9.70075326e-01 -4.45955063e-01 -7.12074635e-01\n  -3.74158530e-02  1.40059511e+00  3.26216686e-01 -1.43990694e+00\n   3.08349267e-01 -1.42327115e+00  1.27625172e+00 -1.54067231e+00\n   2.37410873e-01  1.05537691e+00 -1.42427352e+00 -4.17300618e-02\n  -1.04144356e+00  2.16344658e-01  7.31906722e-01  1.02172333e+00\n   1.26241885e-01 -8.31743561e-02 -4.63165871e-01  1.10005474e-01\n  -1.03766249e+00  1.18690040e+00 -1.64574140e-01  1.65305549e+00\n  -1.43717296e+00 -1.53155918e+00  1.97241024e+00  4.00320744e-01\n  -1.03648325e+00  9.03638265e-01 -2.74149659e-01 -1.99932829e-01\n   1.14080503e+00 -9.25206032e-01  1.40369544e-01  8.01868084e-01\n  -6.58826324e-01 -1.95514568e+00 -8.32405348e-01 -1.20222448e+00\n   9.01449039e-01 -5.20529388e-01  1.02196964e+00  4.10772058e-01\n  -3.94842689e-01 -5.68057482e-01 -2.01116939e+00 -5.72531586e-01\n   1.12924283e+00 -1.71380982e+00  3.92714957e-01]]\n",
          "output_type": "stream"
        }
      ],
      "execution_count": 67
    },
    {
      "cell_type": "markdown",
      "source": "We split the data into training and testing data using the  function  <code>train_test_split</code>.   The training data is divided into validation data, a second set used for training  data; then the models are trained and hyperparameters are selected using the function <code>GridSearchCV</code>.\n",
      "metadata": {}
    },
    {
      "cell_type": "markdown",
      "source": "## TASK  3\n",
      "metadata": {}
    },
    {
      "cell_type": "markdown",
      "source": "Use the function train_test_split to split the data X and Y into training and test data. Set the parameter test_size to  0.2 and random_state to 2. The training data and test data should be assigned to the following labels.\n",
      "metadata": {}
    },
    {
      "cell_type": "markdown",
      "source": "<code>X_train, X_test, Y_train, Y_test</code>\n",
      "metadata": {}
    },
    {
      "cell_type": "code",
      "source": "# Import the necessary function\nfrom sklearn.model_selection import train_test_split\n\n# Split the data\nX_train, X_test, Y_train, Y_test = train_test_split(\n    X,\n    Y,\n    test_size=0.2,      # 20% of data for testing\n    random_state=2      # Set for reproducibility\n)\n\n# You can now check the shape of the resulting test sets as requested\nprint(f\"X_test shape: {X_test.shape}\")\nprint(f\"Y_test shape: {Y_test.shape}\")",
      "metadata": {
        "trusted": true
      },
      "outputs": [
        {
          "name": "stdout",
          "text": "X_test shape: (2, 83)\nY_test shape: (2,)\n",
          "output_type": "stream"
        }
      ],
      "execution_count": 68
    },
    {
      "cell_type": "markdown",
      "source": "we can see we only have 18 test samples.\n",
      "metadata": {}
    },
    {
      "cell_type": "code",
      "source": "Y_test.shape",
      "metadata": {
        "trusted": true
      },
      "outputs": [
        {
          "execution_count": 69,
          "output_type": "execute_result",
          "data": {
            "text/plain": "(2,)"
          },
          "metadata": {}
        }
      ],
      "execution_count": 69
    },
    {
      "cell_type": "markdown",
      "source": "## TASK  4\n",
      "metadata": {}
    },
    {
      "cell_type": "markdown",
      "source": "Create a logistic regression object  then create a  GridSearchCV object  <code>logreg_cv</code> with cv = 10.  Fit the object to find the best parameters from the dictionary <code>parameters</code>.\n",
      "metadata": {}
    },
    {
      "cell_type": "code",
      "source": "parameters ={'C':[0.01,0.1,1],\n             'penalty':['l2'],\n             'solver':['lbfgs']}",
      "metadata": {
        "trusted": true
      },
      "outputs": [],
      "execution_count": 70
    },
    {
      "cell_type": "code",
      "source": "parameters ={\"C\":[0.01,0.1,1],'penalty':['l2'], 'solver':['lbfgs']}# l1 lasso l2 ridge\nlr=LogisticRegression()\n",
      "metadata": {
        "trusted": true
      },
      "outputs": [],
      "execution_count": 71
    },
    {
      "cell_type": "markdown",
      "source": "We output the <code>GridSearchCV</code> object for logistic regression. We display the best parameters using the data attribute <code>best_params\\_</code> and the accuracy on the validation data using the data attribute <code>best_score\\_</code>.\n",
      "metadata": {}
    },
    {
      "cell_type": "code",
      "source": "import pandas as pd\nfrom sklearn.model_selection import train_test_split, GridSearchCV\nfrom sklearn.linear_model import LogisticRegression\nfrom sklearn import preprocessing\nimport numpy as np\nimport warnings\nwarnings.filterwarnings('ignore') # Suppress warnings related to 'penalty=none' in older sklearn versions\n\n# --- 1. Load Data (Prerequisite) ---\n# Assuming 'dataset_part_3.csv' is the correctly processed file.\nurl = \"https://cf-courses-data.s3.us.cloud-object-storage.appdomain.cloud/IBM-DS0321EN-SkillsNetwork/datasets/dataset_part_3.csv\"\ntry:\n    data = pd.read_csv(url)\n    Y = data['Class'].to_numpy()\n    X = data.drop(columns=['Class']).to_numpy()\nexcept:\n    # Fallback/Dummy Data if network fails (Using correct dimensions for the lab)\n    print(\"Warning: Could not load data from URL. Using mock data (90 samples, 84 features) for execution context.\")\n    num_samples = 90\n    num_features = 84\n    mock_features = {f'Feature_{i}': np.random.rand(num_samples) for i in range(num_features)}\n    mock_features['Class'] = np.random.randint(0, 2, num_samples)\n    data = pd.DataFrame(mock_features)\n    Y = data['Class'].to_numpy()\n    X = data.drop(columns=['Class']).to_numpy()\n\n# --- 2. Standardize X (Prerequisite) ---\ntransform = preprocessing.StandardScaler()\nX = transform.fit_transform(X)\n\n# --- 3. Split Data (Prerequisite) ---\n# Splitting into training/validation set and test set\nX_train, X_test, Y_train, Y_test = train_test_split(X, Y, test_size=0.2, random_state=2)\n\n# --- 4. GridSearchCV for Logistic Regression (Requested Task) ---\n# Define the parameter grid\nparameters = {\n    'C': [0.01, 0.1, 1],\n    'penalty': ['l2', 'none'],\n    'solver': ['lbfgs', 'sag']\n}\n\n# Create a Logistic Regression model instance\nlr = LogisticRegression(random_state=2) # Setting random_state for reproducibility\n\n# Set up GridSearchCV with 10-fold cross-validation\nlogreg_cv = GridSearchCV(lr, parameters, cv=10)\n\n# Fit the Grid Search object to the training data (X_train and Y_train)\nlogreg_cv.fit(X_train, Y_train)\n\n# --- 5. Output Results (Requested Task) ---\nprint(\"✅ Logistic Regression Model Tuning Complete.\")\n\n# Display the best parameters\nprint(\"\\nBest Parameters found by GridSearchCV:\")\nprint(logreg_cv.best_params_)\n\n# Display the accuracy on the validation data (cross-validation score)\nprint(\"\\nAccuracy on Validation Data (Best Score):\")\nprint(f\"{logreg_cv.best_score_:.4f}\")",
      "metadata": {
        "trusted": true
      },
      "outputs": [
        {
          "name": "stdout",
          "text": "Warning: Could not load data from URL. Using mock data (90 samples, 84 features) for execution context.\n✅ Logistic Regression Model Tuning Complete.\n\nBest Parameters found by GridSearchCV:\n{'C': 0.1, 'penalty': 'l2', 'solver': 'lbfgs'}\n\nAccuracy on Validation Data (Best Score):\n0.5821\n",
          "output_type": "stream"
        }
      ],
      "execution_count": 72
    },
    {
      "cell_type": "markdown",
      "source": "## TASK  5\n",
      "metadata": {}
    },
    {
      "cell_type": "markdown",
      "source": "Calculate the accuracy on the test data using the method <code>score</code>:\n",
      "metadata": {}
    },
    {
      "cell_type": "code",
      "source": "from sklearn.svm import SVC\nfrom sklearn.model_selection import GridSearchCV\n\n# 1. Define the parameter grid for SVM\n# Common parameters for SVC include C (regularization) and kernel type.\nparameters = {\n    'kernel': ('linear', 'rbf', 'poly', 'sigmoid'),\n    'C': np.logspace(-3, 3, 5),  # Logarithmically spaced C values\n    'gamma': np.logspace(-3, 3, 5) # Gamma is the kernel coefficient\n}\n\n# 2. Create an SVM model instance\nsvm = SVC(random_state=2)\n\n# 3. Set up and fit GridSearchCV\n# cv=10 performs 10-fold cross-validation on the training data.\nsvm_cv = GridSearchCV(svm, parameters, cv=10)\nsvm_cv.fit(X_train, Y_train)\n\n# 4. Output Results\nprint(\"✅ SVM Model Tuning Complete.\")\n\n# Display the best parameters found\nprint(\"\\nBest Parameters found by GridSearchCV:\")\nprint(svm_cv.best_params_)\n\n# Display the accuracy on the validation data (cross-validation best score)\nprint(\"\\nAccuracy on Validation Data (Best Score):\")\nprint(f\"{svm_cv.best_score_:.4f}\")\n\n# 5. Calculate the accuracy on the test data using the .score method\nsvm_test_accuracy = svm_cv.score(X_test, Y_test)\n\nprint(\"\\nAccuracy on Test Data:\")\nprint(f\"{svm_test_accuracy:.4f}\")",
      "metadata": {
        "trusted": true
      },
      "outputs": [
        {
          "name": "stdout",
          "text": "✅ SVM Model Tuning Complete.\n\nBest Parameters found by GridSearchCV:\n{'C': 1000.0, 'gamma': 1000.0, 'kernel': 'sigmoid'}\n\nAccuracy on Validation Data (Best Score):\n0.6268\n\nAccuracy on Test Data:\n0.4444\n",
          "output_type": "stream"
        }
      ],
      "execution_count": 73
    },
    {
      "cell_type": "markdown",
      "source": "Lets look at the confusion matrix:\n",
      "metadata": {}
    },
    {
      "cell_type": "code",
      "source": "yhat=logreg_cv.predict(X_test)\nplot_confusion_matrix(Y_test,yhat)",
      "metadata": {
        "trusted": true
      },
      "outputs": [
        {
          "output_type": "display_data",
          "data": {
            "text/plain": "<Figure size 640x480 with 2 Axes>",
            "image/png": "[encoded data removed]"
          },
          "metadata": {}
        }
      ],
      "execution_count": 74
    },
    {
      "cell_type": "markdown",
      "source": "Examining the confusion matrix, we see that logistic regression can distinguish between the different classes.  We see that the problem is false positives.\n\nOverview:\n\nTrue Postive - 12 (True label is landed, Predicted label is also landed)\n\nFalse Postive - 3 (True label is not landed, Predicted label is landed)\n",
      "metadata": {}
    },
    {
      "cell_type": "markdown",
      "source": "## TASK  6\n",
      "metadata": {}
    },
    {
      "cell_type": "markdown",
      "source": "Create a support vector machine object then  create a  <code>GridSearchCV</code> object  <code>svm_cv</code> with cv = 10.  Fit the object to find the best parameters from the dictionary <code>parameters</code>.\n",
      "metadata": {}
    },
    {
      "cell_type": "code",
      "source": "parameters = {'kernel':('linear', 'rbf','poly','rbf', 'sigmoid'),\n              'C': np.logspace(-3, 3, 5),\n              'gamma':np.logspace(-3, 3, 5)}\nsvm = SVC()",
      "metadata": {
        "trusted": true
      },
      "outputs": [],
      "execution_count": 75
    },
    {
      "cell_type": "code",
      "source": "from sklearn.tree import DecisionTreeClassifier\nfrom sklearn.model_selection import GridSearchCV\nimport numpy as np\n\n# 1. Define the parameter grid for Decision Tree\n# Parameters control the complexity and regularization of the tree.\nparameters = {\n    'criterion': ['gini', 'entropy'],\n    'splitter': ['best', 'random'],\n    'max_depth': [2*n for n in range(1, 10)], # depths from 2 to 18\n    'max_features': ['auto', 'sqrt'],\n    'min_samples_leaf': [1, 2, 4],\n    'min_samples_split': [2, 5, 10]\n}\n\n# 2. Create a Decision Tree Classifier model instance\ntree = DecisionTreeClassifier(random_state=2)\n\n# 3. Set up and fit GridSearchCV\n# cv=10 performs 10-fold cross-validation on the training data.\ntree_cv = GridSearchCV(tree, parameters, cv=10)\ntree_cv.fit(X_train, Y_train)\n\n# 4. Output Results\n\nprint(\"✅ Decision Tree Model Tuning Complete.\")\n\n# Display the best parameters found\nprint(\"\\nBest Parameters found by GridSearchCV:\")\nprint(tree_cv.best_params_)\n\n# Display the accuracy on the validation data (cross-validation best score)\nprint(\"\\nAccuracy on Validation Data (Best Score):\")\nprint(f\"{tree_cv.best_score_:.4f}\")\n\n# 5. Calculate the accuracy on the test data using the .score method\ntree_test_accuracy = tree_cv.score(X_test, Y_test)\n\nprint(\"\\nAccuracy on Test Data:\")\nprint(f\"{tree_test_accuracy:.4f}\")",
      "metadata": {
        "trusted": true
      },
      "outputs": [],
      "execution_count": null
    },
    {
      "cell_type": "code",
      "source": "print(\"tuned hpyerparameters :(best parameters) \",svm_cv.best_params_)\nprint(\"accuracy :\",svm_cv.best_score_)",
      "metadata": {
        "trusted": true
      },
      "outputs": [],
      "execution_count": null
    },
    {
      "cell_type": "markdown",
      "source": "## TASK  7\n",
      "metadata": {}
    },
    {
      "cell_type": "markdown",
      "source": "Calculate the accuracy on the test data using the method <code>score</code>:\n",
      "metadata": {}
    },
    {
      "cell_type": "code",
      "source": "from sklearn.tree import DecisionTreeClassifier\nfrom sklearn.model_selection import GridSearchCV\nimport numpy as np\n\n# 1. Define the parameter grid for Decision Tree\nparameters = {\n    'criterion': ['gini', 'entropy'],\n    'splitter': ['best', 'random'],\n    'max_depth': [2*n for n in range(1, 10)], # depths from 2 to 18\n    'max_features': ['auto', 'sqrt'],\n    'min_samples_leaf': [1, 2, 4],\n    'min_samples_split': [2, 5, 10]\n}\n\n# 2. Create a Decision Tree Classifier model instance\ntree = DecisionTreeClassifier(random_state=2)\n\n# 3. Set up and fit GridSearchCV (cv=10 for 10-fold cross-validation)\ntree_cv = GridSearchCV(tree, parameters, cv=10)\ntree_cv.fit(X_train, Y_train)\n\n# 4. Calculate the accuracy on the test data using the .score method\ntree_test_accuracy = tree_cv.score(X_test, Y_test)\n\n# 5. Output Results\nprint(\"✅ Decision Tree Model Tuning Complete.\")\n\n# Display the best parameters found\nprint(\"\\nBest Parameters found by GridSearchCV:\")\nprint(tree_cv.best_params_)\n\n# Display the accuracy on the validation data (cross-validation best score)\nprint(\"\\nAccuracy on Validation Data (Best Score):\")\nprint(f\"{tree_cv.best_score_:.4f}\")\n\nprint(\"\\nAccuracy on Test Data:\")\nprint(f\"{tree_test_accuracy:.4f}\")",
      "metadata": {
        "trusted": true
      },
      "outputs": [],
      "execution_count": null
    },
    {
      "cell_type": "markdown",
      "source": "We can plot the confusion matrix\n",
      "metadata": {}
    },
    {
      "cell_type": "code",
      "source": "yhat=svm_cv.predict(X_test)\nplot_confusion_matrix(Y_test,yhat)",
      "metadata": {
        "trusted": true
      },
      "outputs": [],
      "execution_count": null
    },
    {
      "cell_type": "markdown",
      "source": "## TASK  8\n",
      "metadata": {}
    },
    {
      "cell_type": "markdown",
      "source": "Create a decision tree classifier object then  create a  <code>GridSearchCV</code> object  <code>tree_cv</code> with cv = 10.  Fit the object to find the best parameters from the dictionary <code>parameters</code>.\n",
      "metadata": {}
    },
    {
      "cell_type": "code",
      "source": "parameters = {'criterion': ['gini', 'entropy'],\n     'splitter': ['best', 'random'],\n     'max_depth': [2*n for n in range(1,10)],\n     'max_features': ['auto', 'sqrt'],\n     'min_samples_leaf': [1, 2, 4],\n     'min_samples_split': [2, 5, 10]}\n\ntree = DecisionTreeClassifier()",
      "metadata": {
        "trusted": true
      },
      "outputs": [],
      "execution_count": null
    },
    {
      "cell_type": "code",
      "source": "from sklearn import preprocessing\n\n# Standardize the data in X then reassign it to the variable X\ntransform = preprocessing.StandardScaler()\nX = transform.fit_transform(X)\n\nprint(\"Standardization of X complete. Mean of first feature column:\", X[:, 0].mean())",
      "metadata": {
        "trusted": true
      },
      "outputs": [],
      "execution_count": null
    },
    {
      "cell_type": "code",
      "source": "print(\"tuned hpyerparameters :(best parameters) \",tree_cv.best_params_)\nprint(\"accuracy :\",tree_cv.best_score_)",
      "metadata": {
        "trusted": true
      },
      "outputs": [],
      "execution_count": null
    },
    {
      "cell_type": "markdown",
      "source": "## TASK  9\n",
      "metadata": {}
    },
    {
      "cell_type": "markdown",
      "source": "Calculate the accuracy of tree_cv on the test data using the method <code>score</code>:\n",
      "metadata": {}
    },
    {
      "cell_type": "code",
      "source": "from sklearn.model_selection import train_test_split\n\n# Split the data into training and testing data\n# Using a common split ratio and random_state for reproducibility\nX_train, X_test, Y_train, Y_test = train_test_split(\n    X, Y, test_size=0.2, random_state=2\n)\n\nprint(\"Data split complete. Training data size:\", X_train.shape)\nprint(\"Test data size:\", X_test.shape)",
      "metadata": {
        "trusted": true
      },
      "outputs": [],
      "execution_count": null
    },
    {
      "cell_type": "markdown",
      "source": "We can plot the confusion matrix\n",
      "metadata": {}
    },
    {
      "cell_type": "code",
      "source": "yhat = tree_cv.predict(X_test)\nplot_confusion_matrix(Y_test,yhat)",
      "metadata": {
        "trusted": true
      },
      "outputs": [],
      "execution_count": null
    },
    {
      "cell_type": "markdown",
      "source": "## TASK  10\n",
      "metadata": {}
    },
    {
      "cell_type": "markdown",
      "source": "Create a k nearest neighbors object then  create a  <code>GridSearchCV</code> object  <code>knn_cv</code> with cv = 10.  Fit the object to find the best parameters from the dictionary <code>parameters</code>.\n",
      "metadata": {}
    },
    {
      "cell_type": "code",
      "source": "parameters = {'n_neighbors': [1, 2, 3, 4, 5, 6, 7, 8, 9, 10],\n              'algorithm': ['auto', 'ball_tree', 'kd_tree', 'brute'],\n              'p': [1,2]}\n\nKNN = KNeighborsClassifier()",
      "metadata": {
        "trusted": true
      },
      "outputs": [],
      "execution_count": null
    },
    {
      "cell_type": "code",
      "source": "from sklearn.tree import DecisionTreeClassifier\nfrom sklearn.model_selection import GridSearchCV\nimport numpy as np\n\n# 1. Define the parameter grid for Decision Tree\nparameters_tree = {\n    'criterion': ['gini', 'entropy'],\n    'splitter': ['best', 'random'],\n    'max_depth': [2*n for n in range(1, 10)],\n    'max_features': ['auto', 'sqrt'],\n    'min_samples_leaf': [1, 2, 4],\n    'min_samples_split': [2, 5, 10]\n}\n\n# 2. Create a Decision Tree Classifier model instance\ntree = DecisionTreeClassifier(random_state=2)\n\n# 3. Set up and fit GridSearchCV\ntree_cv = GridSearchCV(tree, parameters_tree, cv=10)\ntree_cv.fit(X_train, Y_train)\n\n# 4. Calculate the accuracy on the test data\ntree_test_accuracy = tree_cv.score(X_test, Y_test)\n\n# Output Results\nprint(\"=\"*60)\nprint(\"Decision Tree Model Tuning Results\")\nprint(\"Best Parameters:\", tree_cv.best_params_)\nprint(\"Best Validation Score:\", f\"{tree_cv.best_score_:.4f}\")\nprint(\"Test Accuracy:\", f\"{tree_test_accuracy:.4f}\")\nprint(\"=\"*60)\n",
      "metadata": {
        "trusted": true
      },
      "outputs": [],
      "execution_count": null
    },
    {
      "cell_type": "code",
      "source": "print(\"tuned hpyerparameters :(best parameters) \",knn_cv.best_params_)\nprint(\"accuracy :\",knn_cv.best_score_)",
      "metadata": {
        "trusted": true
      },
      "outputs": [],
      "execution_count": null
    },
    {
      "cell_type": "markdown",
      "source": "## TASK  11\n",
      "metadata": {}
    },
    {
      "cell_type": "markdown",
      "source": "Calculate the accuracy of knn_cv on the test data using the method <code>score</code>:\n",
      "metadata": {}
    },
    {
      "cell_type": "code",
      "source": "from sklearn.neighbors import KNeighborsClassifier\n\n# Define the parameter grid for KNN\nparameters = {\n    'n_neighbors': [1, 2, 3, 4, 5, 6, 7, 8, 9, 10],\n    'algorithm': ['auto', 'ball_tree', 'kd_tree', 'brute'],\n    'p': [1, 2]\n}\n\n# Create a KNN Classifier model instance\nknn = KNeighborsClassifier()\n\n# Set up and fit GridSearchCV\nknn_cv = GridSearchCV(knn, parameters, cv=10)\nknn_cv.fit(X_train, Y_train)\n\n# Calculate the accuracy on the test data\nknn_test_accuracy = knn_cv.score(X_test, Y_test)\n\n# Output Results\nprint(\"KNN Model Tuning Results (Approx. Task 11)\")\nprint(\"Best Parameters:\", knn_cv.best_params_)\nprint(\"Best Validation Score:\", f\"{knn_cv.best_score_:.4f}\")\nprint(\"Test Accuracy:\", f\"{knn_test_accuracy:.4f}\")\nprint(\"=\"*60)",
      "metadata": {
        "trusted": true
      },
      "outputs": [],
      "execution_count": null
    },
    {
      "cell_type": "markdown",
      "source": "We can plot the confusion matrix\n",
      "metadata": {}
    },
    {
      "cell_type": "code",
      "source": "yhat = knn_cv.predict(X_test)\nplot_confusion_matrix(Y_test,yhat)",
      "metadata": {
        "trusted": true
      },
      "outputs": [],
      "execution_count": null
    },
    {
      "cell_type": "markdown",
      "source": "## TASK  12\n",
      "metadata": {}
    },
    {
      "cell_type": "markdown",
      "source": "Find the method performs best:\n",
      "metadata": {}
    },
    {
      "cell_type": "code",
      "source": "import pandas as pd\n# NOTE: Replace '..._test_accuracy' variables with the results obtained\n# from the previous steps for a final comparison.\n# For example:\n# logreg_test_accuracy = logreg_cv.score(X_test, Y_test)\n# svm_test_accuracy = svm_cv.score(X_test, Y_test)\n\nmodel_names = ['Logistic Regression', 'SVM', 'Decision Tree', 'K-Nearest Neighbors']\ntest_accuracies = [logreg_test_accuracy, svm_test_accuracy, tree_test_accuracy, knn_test_accuracy]\n\n# Create a DataFrame for easy comparison\naccuracy_df = pd.DataFrame({\n    'Model': model_names,\n    'Test Accuracy': test_accuracies\n})\n\n# Sort by accuracy\naccuracy_df = accuracy_df.sort_values(by='Test Accuracy', ascending=False).reset_index(drop=True)\n\n# Output Results\nprint(\"Final Model Performance Comparison (Approx. Task 12)\")\nprint(accuracy_df)\nprint(\"=\"*60)",
      "metadata": {
        "trusted": true
      },
      "outputs": [],
      "execution_count": null
    },
    {
      "cell_type": "markdown",
      "source": "## Authors\n",
      "metadata": {}
    },
    {
      "cell_type": "markdown",
      "source": "[Pratiksha Verma](https://www.linkedin.com/in/pratiksha-verma-6487561b1/)\n",
      "metadata": {}
    },
    {
      "cell_type": "markdown",
      "source": "<!--## Change Log--!>\n",
      "metadata": {}
    },
    {
      "cell_type": "markdown",
      "source": "<!--| Date (YYYY-MM-DD) | Version | Changed By      | Change Description      |\n| ----------------- | ------- | -------------   | ----------------------- |\n| 2022-11-09        | 1.0     | Pratiksha Verma | Converted initial version to Jupyterlite|--!>\n",
      "metadata": {}
    },
    {
      "cell_type": "markdown",
      "source": "### <h3 align=\"center\"> IBM Corporation 2022. All rights reserved. <h3/>\n",
      "metadata": {}
    }
  ]
}